{
 "cells": [
  {
   "cell_type": "markdown",
   "id": "95526fe7",
   "metadata": {},
   "source": [
    "# Feature engineering\n",
    "Feature engineering is used to create extra variables form the exisiting psychological signals to have extra training data. This is only applied ot the `physio_trans_data_session.pickle`, because those are the independent variables for the ML models."
   ]
  },
  {
   "cell_type": "code",
   "execution_count": 2,
   "id": "b3dca916",
   "metadata": {},
   "outputs": [
    {
     "name": "stdout",
     "output_type": "stream",
     "text": [
      "c:\\Users\\Zita\\Repositories\\affective-states\\notebooks\n"
     ]
    }
   ],
   "source": [
    "# import dependencies\n",
    "import pickle\n",
    "import os\n",
    "import pandas as pd\n",
    "import numpy as np\n",
    "from scipy.signal import find_peaks\n",
    "from sklearn.preprocessing import StandardScaler, MinMaxScaler, RobustScaler\n",
    "\n",
    "BASE_DIR = os.getcwd()  # Works in Jupyter\n",
    "print(BASE_DIR)\n",
    "\n",
    "# specify paths\n",
    "questionnaire_path = \"../data/raw/2_Questionnaire/Transformed/quest_trans_data_segments.pickle\"\n",
    "physio_path = \"../data/raw/3_Physio/Transformed/physio_trans_data_segments.pickle\"\n",
    "annotation_path = \"../data/raw/4_Annotation/Transformed/ann_trans_data_segments.pickle\"\n"
   ]
  },
  {
   "cell_type": "markdown",
   "id": "6040fcc0",
   "metadata": {},
   "source": [
    "# Original dataset"
   ]
  },
  {
   "cell_type": "code",
   "execution_count": 3,
   "id": "84f91c29",
   "metadata": {},
   "outputs": [
    {
     "name": "stdout",
     "output_type": "stream",
     "text": [
      "<class 'dict'>\n"
     ]
    }
   ],
   "source": [
    "with open(physio_path, 'rb') as f:\n",
    "    data = pickle.load(f)\n",
    "\n",
    "# Inspect the type and structure\n",
    "print(type(data))  # Check the data type"
   ]
  },
  {
   "cell_type": "code",
   "execution_count": 4,
   "id": "11dd0a24",
   "metadata": {},
   "outputs": [
    {
     "data": {
      "text/plain": [
       "dict_keys(['filt_EDA', 'filt_PPG', 'ts', 'sampling_rate', 'packet_number', 'EDR', 'hr', 'raw_EDA', 'raw_PPG', 'hr_idx', 'EDA_quality_idx', 'PPG_quality_idx'])"
      ]
     },
     "execution_count": 4,
     "metadata": {},
     "output_type": "execute_result"
    }
   ],
   "source": [
    "data.keys()"
   ]
  },
  {
   "cell_type": "markdown",
   "id": "ef4d337d",
   "metadata": {},
   "source": [
    "## Dictionary keys explanation\n",
    "**filt_EDA** : Filtered signal of Electro Dermal Activity, which assesses the naturally occurring changes in electrical properties of human skin, measure sweat gland activity.\n",
    "\n",
    "**filt_PPG** : The photoplethysmographic (PPG) signal is defined as oscillations in light transmission through a tissue.  It provides a continuous signal that can be analyzed to derive different cardiovascular metrics, including heart rate.\n",
    "\n",
    "**ts** : Timestamps in seconds.\n",
    "\n",
    "**packet_number** : Unknown and not relevant.\n",
    "\n",
    "**raw_EDA** : Raw signal of EDA. (not used)\n",
    "\n",
    "**sampling_rate** : The amount of samples per second. It is 100 for all segments, which means that the time between each sample is 0.1 seconds, as you can see by the calculation in the cell below.\n",
    "\n",
    "**raw_PPG** : Raw singal of PPG. (not used)\n",
    "\n",
    "**hr** : Heart rate in bpm (beats per minutes.\n",
    "\n",
    "**EDR** : Electro Dermal Response which is the derivative of EDA.\n",
    "\n",
    "**hr_idx** : Derivate of heart rate.\n",
    "\n",
    "**EDA_quality_idx** : Quality index of the EDA signal defined by a float between 0 and 240.\n",
    "\n",
    "**PPG_quality_idx** : Quality index of the PPG singal defined by a float between 0 and 240.\n",
    "\n",
    "This dataset is sourced from Boda et al. (2024) and bad quality data has already been discarded and the dataset is cleaned. There can be missing values and the segments have different lenghts. We will use feature engineering to add more features to this dataset."
   ]
  },
  {
   "cell_type": "code",
   "execution_count": 5,
   "id": "c56e716f",
   "metadata": {},
   "outputs": [
    {
     "name": "stdout",
     "output_type": "stream",
     "text": [
      "[np.int64(100), np.int64(100), np.int64(100), np.int64(100), np.int64(100), np.int64(100), np.int64(100), np.int64(100), np.int64(100), np.int64(100), np.int64(100), np.int64(100), np.int64(100), np.int64(100), np.int64(100), np.int64(100), np.int64(100), np.int64(100), np.int64(100), np.int64(100), np.int64(100), np.int64(100), np.int64(100), np.int64(100), np.int64(100), np.int64(100), np.int64(100), np.int64(100), np.int64(100), np.int64(100), np.int64(100), np.int64(100), np.int64(100), np.int64(100), np.int64(100), np.int64(100), np.int64(100), np.int64(100), np.int64(100), np.int64(100), np.int64(100), np.int64(100), np.int64(100), np.int64(100), np.int64(100), np.int64(100), np.int64(100), np.int64(100), np.int64(100), np.int64(100), np.int64(100), np.int64(100), np.int64(100), np.int64(100), np.int64(100), np.int64(100), np.int64(100), np.int64(100), np.int64(100), np.int64(100), np.int64(100), np.int64(100), np.int64(100), np.int64(100), np.int64(100), np.int64(100), np.int64(100), np.int64(100), np.int64(100), np.int64(100), np.int64(100), np.int64(100), np.int64(100), np.int64(100), np.int64(100), np.int64(100), np.int64(100), np.int64(100), np.int64(100), np.int64(100), np.int64(100), np.int64(100), np.int64(100), np.int64(100), np.int64(100), np.int64(100), np.int64(100), np.int64(100), np.int64(100), np.int64(100), np.int64(100), np.int64(100), np.int64(100), np.int64(100), np.int64(100), np.int64(100), np.int64(100), np.int64(100), np.int64(100), np.int64(100), np.int64(100), np.int64(100), np.int64(100), np.int64(100), np.int64(100), np.int64(100), np.int64(100), np.int64(100), np.int64(100), np.int64(100), np.int64(100), np.int64(100), np.int64(100), np.int64(100), np.int64(100), np.int64(100), np.int64(100), np.int64(100), np.int64(100), np.int64(100), np.int64(100), np.int64(100), np.int64(100), np.int64(100), np.int64(100), np.int64(100), np.int64(100), np.int64(100), np.int64(100), np.int64(100), np.int64(100), np.int64(100), np.int64(100), np.int64(100), np.int64(100), np.int64(100), np.int64(100), np.int64(100), np.int64(100), np.int64(100), np.int64(100), np.int64(100), np.int64(100), np.int64(100), np.int64(100), np.int64(100), np.int64(100), np.int64(100), np.int64(100), np.int64(100), np.int64(100), np.int64(100), np.int64(100), np.int64(100), np.int64(100), np.int64(100), np.int64(100), np.int64(100), np.int64(100), np.int64(100), np.int64(100), np.int64(100), np.int64(100), np.int64(100), np.int64(100), np.int64(100), np.int64(100), np.int64(100), np.int64(100), np.int64(100), np.int64(100), np.int64(100), np.int64(100), np.int64(100), np.int64(100), np.int64(100), np.int64(100), np.int64(100), np.int64(100), np.int64(100), np.int64(100), np.int64(100), np.int64(100), np.int64(100), np.int64(100), np.int64(100), np.int64(100), np.int64(100), np.int64(100), np.int64(100), np.int64(100), np.int64(100), np.int64(100), np.int64(100), np.int64(100), np.int64(100), np.int64(100), np.int64(100), np.int64(100), np.int64(100), np.int64(100), np.int64(100), np.int64(100), np.int64(100), np.int64(100), np.int64(100), np.int64(100), np.int64(100), np.int64(100), np.int64(100), np.int64(100), np.int64(100), np.int64(100), np.int64(100), np.int64(100), np.int64(100), np.int64(100), np.int64(100), np.int64(100), np.int64(100), np.int64(100), np.int64(100), np.int64(100), np.int64(100), np.int64(100), np.int64(100), np.int64(100), np.int64(100), np.int64(100), np.int64(100), np.int64(100), np.int64(100), np.int64(100), np.int64(100), np.int64(100), np.int64(100), np.int64(100), np.int64(100), np.int64(100), np.int64(100), np.int64(100), np.int64(100), np.int64(100), np.int64(100), np.int64(100), np.int64(100), np.int64(100), np.int64(100), np.int64(100), np.int64(100), np.int64(100), np.int64(100), np.int64(100), np.int64(100), np.int64(100), np.int64(100), np.int64(100), np.int64(100), np.int64(100), np.int64(100), np.int64(100), np.int64(100), np.int64(100), np.int64(100), np.int64(100), np.int64(100), np.int64(100), np.int64(100), np.int64(100), np.int64(100), np.int64(100), np.int64(100), np.int64(100), np.int64(100), np.int64(100), np.int64(100), np.int64(100), np.int64(100), np.int64(100), np.int64(100), np.int64(100), np.int64(100), np.int64(100), np.int64(100), np.int64(100), np.int64(100), np.int64(100), np.int64(100), np.int64(100), np.int64(100), np.int64(100), np.int64(100), np.int64(100), np.int64(100), np.int64(100), np.int64(100), np.int64(100), np.int64(100), np.int64(100), np.int64(100), np.int64(100), np.int64(100), np.int64(100), np.int64(100), np.int64(100), np.int64(100), np.int64(100), np.int64(100), np.int64(100), np.int64(100), np.int64(100), np.int64(100), np.int64(100), np.int64(100), np.int64(100), np.int64(100), np.int64(100), np.int64(100), np.int64(100), np.int64(100), np.int64(100), np.int64(100), np.int64(100), np.int64(100), np.int64(100), np.int64(100), np.int64(100), np.int64(100), np.int64(100), np.int64(100), np.int64(100), np.int64(100), np.int64(100), np.int64(100), np.int64(100), np.int64(100), np.int64(100), np.int64(100), np.int64(100), np.int64(100), np.int64(100), np.int64(100), np.int64(100), np.int64(100), np.int64(100), np.int64(100), np.int64(100), np.int64(100), np.int64(100), np.int64(100), np.int64(100), np.int64(100), np.int64(100), np.int64(100), np.int64(100), np.int64(100), np.int64(100), np.int64(100), np.int64(100), np.int64(100), np.int64(100), np.int64(100), np.int64(100), np.int64(100), np.int64(100), np.int64(100), np.int64(100), np.int64(100), np.int64(100), np.int64(100), np.int64(100), np.int64(100), np.int64(100), np.int64(100), np.int64(100), np.int64(100), np.int64(100), np.int64(100), np.int64(100), np.int64(100), np.int64(100), np.int64(100), np.int64(100), np.int64(100), np.int64(100), np.int64(100), np.int64(100), np.int64(100), np.int64(100), np.int64(100), np.int64(100), np.int64(100), np.int64(100), np.int64(100), np.int64(100), np.int64(100), np.int64(100), np.int64(100), np.int64(100), np.int64(100), np.int64(100), np.int64(100), np.int64(100), np.int64(100), np.int64(100), np.int64(100), np.int64(100), np.int64(100), np.int64(100), np.int64(100), np.int64(100), np.int64(100), np.int64(100), np.int64(100), np.int64(100), np.int64(100), np.int64(100), np.int64(100), np.int64(100), np.int64(100), np.int64(100), np.int64(100), np.int64(100), np.int64(100), np.int64(100), np.int64(100), np.int64(100), np.int64(100), np.int64(100), np.int64(100), np.int64(100), np.int64(100), np.int64(100), np.int64(100), np.int64(100), np.int64(100), np.int64(100), np.int64(100), np.int64(100), np.int64(100), np.int64(100), np.int64(100), np.int64(100), np.int64(100), np.int64(100), np.int64(100), np.int64(100), np.int64(100), np.int64(100), np.int64(100), np.int64(100), np.int64(100), np.int64(100), np.int64(100), np.int64(100), np.int64(100), np.int64(100), np.int64(100), np.int64(100), np.int64(100), np.int64(100), np.int64(100), np.int64(100), np.int64(100), np.int64(100), np.int64(100), np.int64(100), np.int64(100), np.int64(100), np.int64(100), np.int64(100), np.int64(100), np.int64(100), np.int64(100), np.int64(100), np.int64(100), np.int64(100), np.int64(100), np.int64(100), np.int64(100), np.int64(100), np.int64(100), np.int64(100), np.int64(100), np.int64(100), np.int64(100), np.int64(100), np.int64(100), np.int64(100), np.int64(100), np.int64(100), np.int64(100), np.int64(100), np.int64(100), np.int64(100), np.int64(100), np.int64(100), np.int64(100), np.int64(100), np.int64(100), np.int64(100), np.int64(100), np.int64(100), np.int64(100), np.int64(100), np.int64(100), np.int64(100), np.int64(100), np.int64(100), np.int64(100), np.int64(100), np.int64(100), np.int64(100), np.int64(100), np.int64(100), np.int64(100), np.int64(100), np.int64(100), np.int64(100), np.int64(100), np.int64(100), np.int64(100), np.int64(100), np.int64(100), np.int64(100), np.int64(100), np.int64(100), np.int64(100), np.int64(100), np.int64(100), np.int64(100), np.int64(100), np.int64(100), np.int64(100), np.int64(100), np.int64(100), np.int64(100), np.int64(100), np.int64(100), np.int64(100), np.int64(100), np.int64(100), np.int64(100), np.int64(100), np.int64(100), np.int64(100), np.int64(100), np.int64(100), np.int64(100), np.int64(100), np.int64(100), np.int64(100), np.int64(100), np.int64(100), np.int64(100), np.int64(100), np.int64(100), np.int64(100), np.int64(100), np.int64(100), np.int64(100), np.int64(100), np.int64(100), np.int64(100), np.int64(100), np.int64(100), np.int64(100), np.int64(100), np.int64(100), np.int64(100), np.int64(100), np.int64(100), np.int64(100), np.int64(100), np.int64(100), np.int64(100), np.int64(100), np.int64(100), np.int64(100), np.int64(100), np.int64(100), np.int64(100), np.int64(100), np.int64(100), np.int64(100), np.int64(100), np.int64(100), np.int64(100), np.int64(100), np.int64(100), np.int64(100), np.int64(100), np.int64(100), np.int64(100), np.int64(100), np.int64(100), np.int64(100), np.int64(100), np.int64(100), np.int64(100), np.int64(100), np.int64(100), np.int64(100), np.int64(100), np.int64(100), np.int64(100), np.int64(100), np.int64(100), np.int64(100), np.int64(100), np.int64(100), np.int64(100), np.int64(100), np.int64(100), np.int64(100), np.int64(100), np.int64(100), np.int64(100), np.int64(100), np.int64(100), np.int64(100), np.int64(100), np.int64(100), np.int64(100), np.int64(100), np.int64(100), np.int64(100), np.int64(100), np.int64(100), np.int64(100), np.int64(100), np.int64(100), np.int64(100), np.int64(100), np.int64(100), np.int64(100), np.int64(100), np.int64(100), np.int64(100), np.int64(100), np.int64(100), np.int64(100), np.int64(100), np.int64(100), np.int64(100), np.int64(100), np.int64(100), np.int64(100), np.int64(100), np.int64(100), np.int64(100), np.int64(100), np.int64(100), np.int64(100), np.int64(100), np.int64(100), np.int64(100), np.int64(100), np.int64(100), np.int64(100), np.int64(100), np.int64(100), np.int64(100), np.int64(100), np.int64(100), np.int64(100), np.int64(100), np.int64(100), np.int64(100), np.int64(100), np.int64(100), np.int64(100), np.int64(100), np.int64(100), np.int64(100), np.int64(100), np.int64(100), np.int64(100), np.int64(100), np.int64(100), np.int64(100), np.int64(100), np.int64(100), np.int64(100), np.int64(100), np.int64(100), np.int64(100), np.int64(100), np.int64(100), np.int64(100), np.int64(100), np.int64(100), np.int64(100), np.int64(100), np.int64(100), np.int64(100), np.int64(100), np.int64(100), np.int64(100), np.int64(100), np.int64(100), np.int64(100), np.int64(100), np.int64(100), np.int64(100), np.int64(100), np.int64(100), np.int64(100), np.int64(100), np.int64(100), np.int64(100), np.int64(100), np.int64(100), np.int64(100), np.int64(100), np.int64(100), np.int64(100), np.int64(100), np.int64(100), np.int64(100), np.int64(100), np.int64(100), np.int64(100), np.int64(100), np.int64(100), np.int64(100), np.int64(100), np.int64(100), np.int64(100), np.int64(100), np.int64(100), np.int64(100), np.int64(100), np.int64(100), np.int64(100), np.int64(100), np.int64(100), np.int64(100), np.int64(100), np.int64(100), np.int64(100), np.int64(100), np.int64(100), np.int64(100), np.int64(100), np.int64(100), np.int64(100), np.int64(100), np.int64(100), np.int64(100), np.int64(100), np.int64(100), np.int64(100), np.int64(100), np.int64(100), np.int64(100), np.int64(100), np.int64(100), np.int64(100), np.int64(100), np.int64(100), np.int64(100), np.int64(100), np.int64(100), np.int64(100), np.int64(100), np.int64(100), np.int64(100), np.int64(100), np.int64(100), np.int64(100), np.int64(100), np.int64(100), np.int64(100), np.int64(100), np.int64(100), np.int64(100), np.int64(100), np.int64(100), np.int64(100), np.int64(100), np.int64(100), np.int64(100), np.int64(100), np.int64(100), np.int64(100), np.int64(100), np.int64(100), np.int64(100), np.int64(100), np.int64(100), np.int64(100), np.int64(100), np.int64(100), np.int64(100), np.int64(100), np.int64(100), np.int64(100), np.int64(100), np.int64(100), np.int64(100), np.int64(100), np.int64(100), np.int64(100), np.int64(100), np.int64(100), np.int64(100), np.int64(100), np.int64(100), np.int64(100), np.int64(100), np.int64(100), np.int64(100), np.int64(100), np.int64(100), np.int64(100), np.int64(100), np.int64(100), np.int64(100), np.int64(100), np.int64(100), np.int64(100), np.int64(100), np.int64(100), np.int64(100), np.int64(100), np.int64(100), np.int64(100), np.int64(100), np.int64(100), np.int64(100), np.int64(100), np.int64(100), np.int64(100), np.int64(100), np.int64(100), np.int64(100), np.int64(100), np.int64(100), np.int64(100), np.int64(100), np.int64(100), np.int64(100), np.int64(100), np.int64(100), np.int64(100), np.int64(100), np.int64(100), np.int64(100), np.int64(100), np.int64(100), np.int64(100), np.int64(100), np.int64(100), np.int64(100), np.int64(100), np.int64(100), np.int64(100), np.int64(100), np.int64(100), np.int64(100), np.int64(100), np.int64(100), np.int64(100), np.int64(100), np.int64(100), np.int64(100), np.int64(100), np.int64(100), np.int64(100), np.int64(100), np.int64(100), np.int64(100), np.int64(100), np.int64(100), np.int64(100), np.int64(100), np.int64(100), np.int64(100), np.int64(100), np.int64(100), np.int64(100), np.int64(100), np.int64(100), np.int64(100), np.int64(100), np.int64(100), np.int64(100), np.int64(100), np.int64(100), np.int64(100), np.int64(100), np.int64(100), np.int64(100), np.int64(100), np.int64(100), np.int64(100), np.int64(100), np.int64(100), np.int64(100), np.int64(100), np.int64(100), np.int64(100), np.int64(100), np.int64(100), np.int64(100), np.int64(100), np.int64(100), np.int64(100), np.int64(100), np.int64(100), np.int64(100), np.int64(100), np.int64(100), np.int64(100), np.int64(100), np.int64(100), np.int64(100), np.int64(100), np.int64(100), np.int64(100), np.int64(100), np.int64(100), np.int64(100), np.int64(100), np.int64(100), np.int64(100), np.int64(100), np.int64(100), np.int64(100), np.int64(100), np.int64(100), np.int64(100), np.int64(100), np.int64(100), np.int64(100), np.int64(100), np.int64(100), np.int64(100), np.int64(100), np.int64(100), np.int64(100), np.int64(100), np.int64(100), np.int64(100), np.int64(100), np.int64(100), np.int64(100), np.int64(100), np.int64(100), np.int64(100), np.int64(100), np.int64(100), np.int64(100), np.int64(100), np.int64(100), np.int64(100), np.int64(100), np.int64(100), np.int64(100), np.int64(100), np.int64(100), np.int64(100), np.int64(100), np.int64(100), np.int64(100), np.int64(100), np.int64(100), np.int64(100), np.int64(100), np.int64(100), np.int64(100), np.int64(100), np.int64(100), np.int64(100), np.int64(100), np.int64(100), np.int64(100), np.int64(100), np.int64(100), np.int64(100), np.int64(100), np.int64(100), np.int64(100), np.int64(100), np.int64(100), np.int64(100), np.int64(100), np.int64(100), np.int64(100), np.int64(100), np.int64(100), np.int64(100), np.int64(100), np.int64(100), np.int64(100), np.int64(100), np.int64(100), np.int64(100), np.int64(100), np.int64(100), np.int64(100), np.int64(100), np.int64(100), np.int64(100), np.int64(100), np.int64(100), np.int64(100), np.int64(100), np.int64(100), np.int64(100), np.int64(100), np.int64(100), np.int64(100), np.int64(100), np.int64(100), np.int64(100), np.int64(100), np.int64(100), np.int64(100), np.int64(100), np.int64(100), np.int64(100), np.int64(100), np.int64(100), np.int64(100), np.int64(100), np.int64(100), np.int64(100), np.int64(100), np.int64(100), np.int64(100), np.int64(100), np.int64(100), np.int64(100), np.int64(100), np.int64(100), np.int64(100), np.int64(100), np.int64(100), np.int64(100), np.int64(100), np.int64(100), np.int64(100), np.int64(100), np.int64(100), np.int64(100), np.int64(100), np.int64(100), np.int64(100), np.int64(100), np.int64(100), np.int64(100), np.int64(100), np.int64(100), np.int64(100), np.int64(100), np.int64(100), np.int64(100), np.int64(100), np.int64(100), np.int64(100), np.int64(100), np.int64(100), np.int64(100), np.int64(100), np.int64(100), np.int64(100), np.int64(100), np.int64(100), np.int64(100), np.int64(100), np.int64(100), np.int64(100), np.int64(100), np.int64(100), np.int64(100), np.int64(100), np.int64(100), np.int64(100), np.int64(100), np.int64(100), np.int64(100), np.int64(100), np.int64(100), np.int64(100), np.int64(100), np.int64(100), np.int64(100), np.int64(100), np.int64(100), np.int64(100), np.int64(100), np.int64(100), np.int64(100), np.int64(100), np.int64(100), np.int64(100), np.int64(100), np.int64(100), np.int64(100), np.int64(100), np.int64(100), np.int64(100), np.int64(100), np.int64(100), np.int64(100), np.int64(100), np.int64(100), np.int64(100), np.int64(100), np.int64(100), np.int64(100), np.int64(100), np.int64(100), np.int64(100), np.int64(100), np.int64(100), np.int64(100), np.int64(100), np.int64(100), np.int64(100), np.int64(100), np.int64(100), np.int64(100), np.int64(100), np.int64(100), np.int64(100), np.int64(100), np.int64(100), np.int64(100), np.int64(100), np.int64(100), np.int64(100), np.int64(100), np.int64(100), np.int64(100), np.int64(100), np.int64(100), np.int64(100), np.int64(100), np.int64(100), np.int64(100), np.int64(100), np.int64(100), np.int64(100), np.int64(100), np.int64(100), np.int64(100), np.int64(100), np.int64(100), np.int64(100), np.int64(100), np.int64(100), np.int64(100), np.int64(100), np.int64(100), np.int64(100), np.int64(100), np.int64(100), np.int64(100), np.int64(100), np.int64(100), np.int64(100), np.int64(100), np.int64(100), np.int64(100), np.int64(100), np.int64(100), np.int64(100), np.int64(100), np.int64(100), np.int64(100), np.int64(100), np.int64(100), np.int64(100), np.int64(100), np.int64(100), np.int64(100), np.int64(100), np.int64(100), np.int64(100), np.int64(100), np.int64(100), np.int64(100), np.int64(100), np.int64(100), np.int64(100), np.int64(100), np.int64(100), np.int64(100), np.int64(100), np.int64(100), np.int64(100), np.int64(100), np.int64(100), np.int64(100), np.int64(100), np.int64(100), np.int64(100), np.int64(100), np.int64(100), np.int64(100), np.int64(100), np.int64(100), np.int64(100), np.int64(100), np.int64(100), np.int64(100), np.int64(100), np.int64(100), np.int64(100), np.int64(100), np.int64(100), np.int64(100), np.int64(100), np.int64(100), np.int64(100), np.int64(100), np.int64(100), np.int64(100), np.int64(100), np.int64(100), np.int64(100), np.int64(100), np.int64(100), np.int64(100), np.int64(100), np.int64(100), np.int64(100), np.int64(100), np.int64(100), np.int64(100), np.int64(100), np.int64(100), np.int64(100), np.int64(100), np.int64(100), np.int64(100), np.int64(100), np.int64(100), np.int64(100), np.int64(100), np.int64(100), np.int64(100), np.int64(100), np.int64(100), np.int64(100), np.int64(100), np.int64(100), np.int64(100), np.int64(100), np.int64(100), np.int64(100), np.int64(100), np.int64(100), np.int64(100), np.int64(100), np.int64(100), np.int64(100), np.int64(100), np.int64(100), np.int64(100), np.int64(100), np.int64(100), np.int64(100), np.int64(100), np.int64(100), np.int64(100), np.int64(100), np.int64(100), np.int64(100), np.int64(100), np.int64(100), np.int64(100), np.int64(100), np.int64(100), np.int64(100), np.int64(100), np.int64(100), np.int64(100), np.int64(100), np.int64(100), np.int64(100), np.int64(100), np.int64(100), np.int64(100), np.int64(100), np.int64(100), np.int64(100), np.int64(100), np.int64(100), np.int64(100), np.int64(100), np.int64(100), np.int64(100), np.int64(100), np.int64(100), np.int64(100), np.int64(100), np.int64(100), np.int64(100), np.int64(100), np.int64(100), np.int64(100), np.int64(100), np.int64(100), np.int64(100), np.int64(100), np.int64(100), np.int64(100), np.int64(100), np.int64(100), np.int64(100), np.int64(100), np.int64(100), np.int64(100), np.int64(100), np.int64(100), np.int64(100), np.int64(100), np.int64(100), np.int64(100), np.int64(100), np.int64(100), np.int64(100), np.int64(100), np.int64(100), np.int64(100), np.int64(100), np.int64(100), np.int64(100), np.int64(100), np.int64(100), np.int64(100), np.int64(100), np.int64(100), np.int64(100), np.int64(100), np.int64(100), np.int64(100), np.int64(100), np.int64(100), np.int64(100), np.int64(100), np.int64(100), np.int64(100), np.int64(100), np.int64(100), np.int64(100), np.int64(100), np.int64(100), np.int64(100), np.int64(100), np.int64(100), np.int64(100), np.int64(100), np.int64(100), np.int64(100), np.int64(100), np.int64(100), np.int64(100), np.int64(100), np.int64(100), np.int64(100), np.int64(100), np.int64(100), np.int64(100), np.int64(100), np.int64(100), np.int64(100), np.int64(100), np.int64(100), np.int64(100), np.int64(100), np.int64(100), np.int64(100), np.int64(100), np.int64(100), np.int64(100), np.int64(100), np.int64(100), np.int64(100), np.int64(100), np.int64(100), np.int64(100), np.int64(100), np.int64(100), np.int64(100), np.int64(100), np.int64(100), np.int64(100), np.int64(100), np.int64(100), np.int64(100), np.int64(100), np.int64(100), np.int64(100), np.int64(100), np.int64(100), np.int64(100), np.int64(100), np.int64(100), np.int64(100), np.int64(100), np.int64(100), np.int64(100), np.int64(100), np.int64(100), np.int64(100), np.int64(100), np.int64(100), np.int64(100), np.int64(100), np.int64(100), np.int64(100), np.int64(100), np.int64(100), np.int64(100), np.int64(100), np.int64(100), np.int64(100), np.int64(100), np.int64(100), np.int64(100), np.int64(100), np.int64(100), np.int64(100), np.int64(100), np.int64(100), np.int64(100), np.int64(100), np.int64(100), np.int64(100), np.int64(100), np.int64(100), np.int64(100), np.int64(100), np.int64(100), np.int64(100), np.int64(100), np.int64(100), np.int64(100), np.int64(100), np.int64(100), np.int64(100), np.int64(100), np.int64(100), np.int64(100), np.int64(100), np.int64(100), np.int64(100), np.int64(100), np.int64(100), np.int64(100), np.int64(100), np.int64(100), np.int64(100), np.int64(100), np.int64(100), np.int64(100), np.int64(100), np.int64(100), np.int64(100), np.int64(100), np.int64(100), np.int64(100), np.int64(100), np.int64(100), np.int64(100), np.int64(100), np.int64(100), np.int64(100), np.int64(100), np.int64(100), np.int64(100), np.int64(100), np.int64(100), np.int64(100), np.int64(100), np.int64(100)]\n"
     ]
    }
   ],
   "source": [
    "print(data[\"sampling_rate\"])"
   ]
  },
  {
   "cell_type": "code",
   "execution_count": 6,
   "id": "233258c7",
   "metadata": {},
   "outputs": [
    {
     "name": "stdout",
     "output_type": "stream",
     "text": [
      "0.01\n"
     ]
    }
   ],
   "source": [
    "# calculate sampling rate\n",
    "\n",
    "sampling_rate = data[\"sampling_rate\"][0]  # seconds^-1\n",
    "dt = 1.0 / sampling_rate\n",
    "print(dt) # this matches what we got above"
   ]
  },
  {
   "cell_type": "code",
   "execution_count": 7,
   "id": "984da0bf",
   "metadata": {},
   "outputs": [
    {
     "name": "stdout",
     "output_type": "stream",
     "text": [
      "Number of instances: 1481\n"
     ]
    }
   ],
   "source": [
    "print(\"Number of instances: \" + str(len(data['filt_EDA']) ))"
   ]
  },
  {
   "cell_type": "code",
   "execution_count": 8,
   "id": "f93d7678",
   "metadata": {},
   "outputs": [
    {
     "name": "stdout",
     "output_type": "stream",
     "text": [
      "[0. 0. 0. ... 0. 0. 0.]\n",
      "\n",
      " Example of filtered EDA signal length (of instance 1): 2000\n"
     ]
    }
   ],
   "source": [
    "print(data['filt_EDA'][1])\n",
    "\n",
    "print(\"\\n Example of filtered EDA signal length (of instance 1): \" +  str(len(data['filt_EDA'][1])))"
   ]
  },
  {
   "cell_type": "markdown",
   "id": "416ed06e",
   "metadata": {},
   "source": [
    "# Feature engineering\n",
    "The following feature are added:\n",
    "\n",
    "**SCL** : \n",
    "\n",
    "**SCR** : Phasic EDA signal.\n",
    "\n",
    "**hr** : Heart rate in bpm\n",
    "\n",
    "**HRV** : Heart Rate Variability\n",
    "\n",
    "**EDA peaks**:\n",
    "\n",
    "\n",
    "TODO: finish the definitions for all the new features"
   ]
  },
  {
   "cell_type": "code",
   "execution_count": 9,
   "id": "ee706a77",
   "metadata": {},
   "outputs": [
    {
     "data": {
      "text/html": [
       "<div>\n",
       "<style scoped>\n",
       "    .dataframe tbody tr th:only-of-type {\n",
       "        vertical-align: middle;\n",
       "    }\n",
       "\n",
       "    .dataframe tbody tr th {\n",
       "        vertical-align: top;\n",
       "    }\n",
       "\n",
       "    .dataframe thead th {\n",
       "        text-align: right;\n",
       "    }\n",
       "</style>\n",
       "<table border=\"1\" class=\"dataframe\">\n",
       "  <thead>\n",
       "    <tr style=\"text-align: right;\">\n",
       "      <th></th>\n",
       "      <th>filt_EDA</th>\n",
       "      <th>filt_PPG</th>\n",
       "      <th>ts</th>\n",
       "      <th>sampling_rate</th>\n",
       "      <th>packet_number</th>\n",
       "      <th>EDR</th>\n",
       "      <th>hr</th>\n",
       "      <th>raw_EDA</th>\n",
       "      <th>raw_PPG</th>\n",
       "      <th>hr_idx</th>\n",
       "      <th>EDA_quality_idx</th>\n",
       "      <th>PPG_quality_idx</th>\n",
       "    </tr>\n",
       "  </thead>\n",
       "  <tbody>\n",
       "    <tr>\n",
       "      <th>0</th>\n",
       "      <td>[0.0, 0.0, 0.0, 0.0, 0.0, 0.0, 0.0, 0.0, 0.0, ...</td>\n",
       "      <td>[-600.060815151149, -595.2853451896902, -587.9...</td>\n",
       "      <td>[5.0, 5.01, 5.0200000000000005, 5.03, 5.04, 5....</td>\n",
       "      <td>100</td>\n",
       "      <td>[8.0, 9.0, 10.0, 11.0, 12.0, 13.0, 14.0, 15.0,...</td>\n",
       "      <td>[0.0, 0.0, 0.0, 0.0, 0.0, 0.0, 0.0, 0.0, 0.0, ...</td>\n",
       "      <td>[71.2523979172376, 68.60128444958119, 66.18906...</td>\n",
       "      <td>[0.0, 0.0, 0.0, 0.0, 0.0, 0.0, 0.0, 0.0, 0.0, ...</td>\n",
       "      <td>[1191.0, 1193.0, 1200.0, 1204.0, 1206.0, 1216....</td>\n",
       "      <td>[187, 276, 368, 459, 542, 625, 707, 788, 866, ...</td>\n",
       "      <td>5.0</td>\n",
       "      <td>0.0</td>\n",
       "    </tr>\n",
       "    <tr>\n",
       "      <th>1</th>\n",
       "      <td>[0.0, 0.0, 0.0, 0.0, 0.0, 0.0, 0.0, 0.0, 0.0, ...</td>\n",
       "      <td>[1627.5018611126122, 1609.5223131853395, 1600....</td>\n",
       "      <td>[621.0, 621.01, 621.02, 621.03, 621.04, 621.05...</td>\n",
       "      <td>100</td>\n",
       "      <td>[8.0, 9.0, 10.0, 11.0, 12.0, 13.0, 14.0, 15.0,...</td>\n",
       "      <td>[0.0, 0.0, 0.0, 0.0, 0.0, 0.0, 0.0, 0.0, 0.0, ...</td>\n",
       "      <td>[70.66836951894423, 70.15177388417735, 71.8546...</td>\n",
       "      <td>[0.0, 0.0, 0.0, 0.0, 0.0, 0.0, 0.0, 0.0, 0.0, ...</td>\n",
       "      <td>[3535.0, 3533.0, 3534.0, 3536.0, 3534.0, 3536....</td>\n",
       "      <td>[173, 254, 343, 424, 508, 611, 713, 813, 910, ...</td>\n",
       "      <td>6.0</td>\n",
       "      <td>1.0</td>\n",
       "    </tr>\n",
       "    <tr>\n",
       "      <th>2</th>\n",
       "      <td>[0.0, 0.0, 0.0, 0.0, 0.0, 0.0, 0.0, 0.0, 0.0, ...</td>\n",
       "      <td>[1483.4034056640082, 1513.4885977757735, 1543....</td>\n",
       "      <td>[467.0, 467.01, 467.02, 467.03000000000003, 46...</td>\n",
       "      <td>100</td>\n",
       "      <td>[0.0, 1.0, 2.0, 3.0, 4.0, 5.0, 6.0, 7.0, 8.0, ...</td>\n",
       "      <td>[0.0, 0.0, 0.0, 0.0, 0.0, 0.0, 0.0, 0.0, 0.0, ...</td>\n",
       "      <td>[83.51101634683724, 74.71290165712789, 71.1779...</td>\n",
       "      <td>[0.0, 0.0, 0.0, 0.0, 0.0, 0.0, 0.0, 0.0, 0.0, ...</td>\n",
       "      <td>[3536.0, 3536.0, 3536.0, 3536.0, 3536.0, 3539....</td>\n",
       "      <td>[150, 234, 329, 405, 493, 580, 666, 758, 829, ...</td>\n",
       "      <td>8.0</td>\n",
       "      <td>2.0</td>\n",
       "    </tr>\n",
       "    <tr>\n",
       "      <th>3</th>\n",
       "      <td>[0.0, 0.0, 0.0, 0.0, 0.0, 0.0, 0.0, 0.0, 0.0, ...</td>\n",
       "      <td>[-876.333693217288, -879.9930179232609, -878.3...</td>\n",
       "      <td>[313.0, 313.01, 313.02, 313.03000000000003, 31...</td>\n",
       "      <td>100</td>\n",
       "      <td>[8.0, 9.0, 10.0, 11.0, 12.0, 13.0, 14.0, 15.0,...</td>\n",
       "      <td>[0.0, 0.0, 0.0, 0.0, 0.0, 0.0, 0.0, 0.0, 0.0, ...</td>\n",
       "      <td>[66.20553359683794, 73.45191040843214, 71.9148...</td>\n",
       "      <td>[0.0, 0.0, 0.0, 0.0, 0.0, 0.0, 0.0, 0.0, 0.0, ...</td>\n",
       "      <td>[607.0, 595.0, 594.0, 601.0, 608.0, 624.0, 643...</td>\n",
       "      <td>[126, 214, 283, 382, 470, 547, 648, 724, 811, ...</td>\n",
       "      <td>9.0</td>\n",
       "      <td>3.0</td>\n",
       "    </tr>\n",
       "    <tr>\n",
       "      <th>4</th>\n",
       "      <td>[0.0, 0.0, 0.0, 0.0, 0.0, 0.0, 0.0, 0.0, 0.0, ...</td>\n",
       "      <td>[-1236.631858494471, -1220.5943338457344, -119...</td>\n",
       "      <td>[159.0, 159.01, 159.02, 159.03, 159.04, 159.05...</td>\n",
       "      <td>100</td>\n",
       "      <td>[0.0, 1.0, 2.0, 3.0, 4.0, 5.0, 6.0, 7.0, 8.0, ...</td>\n",
       "      <td>[0.0, 0.0, 0.0, 0.0, 0.0, 0.0, 0.0, 0.0, 0.0, ...</td>\n",
       "      <td>[82.36125839519265, 76.63156510230421, 71.7424...</td>\n",
       "      <td>[0.0, 0.0, 0.0, 0.0, 0.0, 0.0, 0.0, 0.0, 0.0, ...</td>\n",
       "      <td>[442.0, 448.0, 465.0, 479.0, 502.0, 533.0, 560...</td>\n",
       "      <td>[106, 188, 274, 357, 427, 510, 593, 672, 759, ...</td>\n",
       "      <td>10.0</td>\n",
       "      <td>4.0</td>\n",
       "    </tr>\n",
       "  </tbody>\n",
       "</table>\n",
       "</div>"
      ],
      "text/plain": [
       "                                            filt_EDA  \\\n",
       "0  [0.0, 0.0, 0.0, 0.0, 0.0, 0.0, 0.0, 0.0, 0.0, ...   \n",
       "1  [0.0, 0.0, 0.0, 0.0, 0.0, 0.0, 0.0, 0.0, 0.0, ...   \n",
       "2  [0.0, 0.0, 0.0, 0.0, 0.0, 0.0, 0.0, 0.0, 0.0, ...   \n",
       "3  [0.0, 0.0, 0.0, 0.0, 0.0, 0.0, 0.0, 0.0, 0.0, ...   \n",
       "4  [0.0, 0.0, 0.0, 0.0, 0.0, 0.0, 0.0, 0.0, 0.0, ...   \n",
       "\n",
       "                                            filt_PPG  \\\n",
       "0  [-600.060815151149, -595.2853451896902, -587.9...   \n",
       "1  [1627.5018611126122, 1609.5223131853395, 1600....   \n",
       "2  [1483.4034056640082, 1513.4885977757735, 1543....   \n",
       "3  [-876.333693217288, -879.9930179232609, -878.3...   \n",
       "4  [-1236.631858494471, -1220.5943338457344, -119...   \n",
       "\n",
       "                                                  ts  sampling_rate  \\\n",
       "0  [5.0, 5.01, 5.0200000000000005, 5.03, 5.04, 5....            100   \n",
       "1  [621.0, 621.01, 621.02, 621.03, 621.04, 621.05...            100   \n",
       "2  [467.0, 467.01, 467.02, 467.03000000000003, 46...            100   \n",
       "3  [313.0, 313.01, 313.02, 313.03000000000003, 31...            100   \n",
       "4  [159.0, 159.01, 159.02, 159.03, 159.04, 159.05...            100   \n",
       "\n",
       "                                       packet_number  \\\n",
       "0  [8.0, 9.0, 10.0, 11.0, 12.0, 13.0, 14.0, 15.0,...   \n",
       "1  [8.0, 9.0, 10.0, 11.0, 12.0, 13.0, 14.0, 15.0,...   \n",
       "2  [0.0, 1.0, 2.0, 3.0, 4.0, 5.0, 6.0, 7.0, 8.0, ...   \n",
       "3  [8.0, 9.0, 10.0, 11.0, 12.0, 13.0, 14.0, 15.0,...   \n",
       "4  [0.0, 1.0, 2.0, 3.0, 4.0, 5.0, 6.0, 7.0, 8.0, ...   \n",
       "\n",
       "                                                 EDR  \\\n",
       "0  [0.0, 0.0, 0.0, 0.0, 0.0, 0.0, 0.0, 0.0, 0.0, ...   \n",
       "1  [0.0, 0.0, 0.0, 0.0, 0.0, 0.0, 0.0, 0.0, 0.0, ...   \n",
       "2  [0.0, 0.0, 0.0, 0.0, 0.0, 0.0, 0.0, 0.0, 0.0, ...   \n",
       "3  [0.0, 0.0, 0.0, 0.0, 0.0, 0.0, 0.0, 0.0, 0.0, ...   \n",
       "4  [0.0, 0.0, 0.0, 0.0, 0.0, 0.0, 0.0, 0.0, 0.0, ...   \n",
       "\n",
       "                                                  hr  \\\n",
       "0  [71.2523979172376, 68.60128444958119, 66.18906...   \n",
       "1  [70.66836951894423, 70.15177388417735, 71.8546...   \n",
       "2  [83.51101634683724, 74.71290165712789, 71.1779...   \n",
       "3  [66.20553359683794, 73.45191040843214, 71.9148...   \n",
       "4  [82.36125839519265, 76.63156510230421, 71.7424...   \n",
       "\n",
       "                                             raw_EDA  \\\n",
       "0  [0.0, 0.0, 0.0, 0.0, 0.0, 0.0, 0.0, 0.0, 0.0, ...   \n",
       "1  [0.0, 0.0, 0.0, 0.0, 0.0, 0.0, 0.0, 0.0, 0.0, ...   \n",
       "2  [0.0, 0.0, 0.0, 0.0, 0.0, 0.0, 0.0, 0.0, 0.0, ...   \n",
       "3  [0.0, 0.0, 0.0, 0.0, 0.0, 0.0, 0.0, 0.0, 0.0, ...   \n",
       "4  [0.0, 0.0, 0.0, 0.0, 0.0, 0.0, 0.0, 0.0, 0.0, ...   \n",
       "\n",
       "                                             raw_PPG  \\\n",
       "0  [1191.0, 1193.0, 1200.0, 1204.0, 1206.0, 1216....   \n",
       "1  [3535.0, 3533.0, 3534.0, 3536.0, 3534.0, 3536....   \n",
       "2  [3536.0, 3536.0, 3536.0, 3536.0, 3536.0, 3539....   \n",
       "3  [607.0, 595.0, 594.0, 601.0, 608.0, 624.0, 643...   \n",
       "4  [442.0, 448.0, 465.0, 479.0, 502.0, 533.0, 560...   \n",
       "\n",
       "                                              hr_idx  EDA_quality_idx  \\\n",
       "0  [187, 276, 368, 459, 542, 625, 707, 788, 866, ...              5.0   \n",
       "1  [173, 254, 343, 424, 508, 611, 713, 813, 910, ...              6.0   \n",
       "2  [150, 234, 329, 405, 493, 580, 666, 758, 829, ...              8.0   \n",
       "3  [126, 214, 283, 382, 470, 547, 648, 724, 811, ...              9.0   \n",
       "4  [106, 188, 274, 357, 427, 510, 593, 672, 759, ...             10.0   \n",
       "\n",
       "   PPG_quality_idx  \n",
       "0              0.0  \n",
       "1              1.0  \n",
       "2              2.0  \n",
       "3              3.0  \n",
       "4              4.0  "
      ]
     },
     "execution_count": 9,
     "metadata": {},
     "output_type": "execute_result"
    }
   ],
   "source": [
    "# make data into a df_physio_clean_clean dataframe\n",
    "df_physio = pd.DataFrame(dict([ (key, pd.Series(val)) for key, val in data.items() ]))\n",
    "\n",
    "# Display the resulting DataFrame\n",
    "df_physio.head()"
   ]
  },
  {
   "cell_type": "code",
   "execution_count": 10,
   "id": "de8e7d0e",
   "metadata": {},
   "outputs": [],
   "source": [
    "def arr_calculation(df, col, type, name=None):\n",
    "    if name is None:\n",
    "        name = type + \"_\" + col\n",
    "\n",
    "    if type == \"mean\":\n",
    "        df[name] = np.array([np.mean(arr) if len(arr) > 0 else np.nan for arr in df[col]])\n",
    "    elif type == \"std\":\n",
    "        df[name] = np.array([np.std(arr) if len(arr) > 0 else np.nan for arr in df[col]])\n",
    "    elif type == \"max\":     \n",
    "        df[name] = np.array([np.max(arr) if len(arr) > 0 else np.nan for arr in df[col]])\n",
    "    elif type == \"min\":\n",
    "        df[name] = np.array([np.min(arr) if len(arr) > 0 else np.nan for arr in df[col]])  \n",
    "    elif type == \"gradient\":\n",
    "        df[name] = [np.gradient(arr) if len(arr) > 0 else [] for arr in df_physio[col]] \n",
    "    elif type == \"diff\":\n",
    "        df[name] = [np.diff(arr) if len(arr) > 0 else [] for arr in df_physio[col]]\n",
    "\n",
    "    return df\n",
    "\n",
    "\n",
    "def statistics(df, col):\n",
    "    df = arr_calculation(df, col, \"mean\")\n",
    "    df = arr_calculation(df, col, \"std\")\n",
    "    df = arr_calculation(df, col, \"max\")\n",
    "    df = arr_calculation(df, col, \"min\")\n",
    "    return df"
   ]
  },
  {
   "cell_type": "code",
   "execution_count": 11,
   "id": "772eba7a",
   "metadata": {},
   "outputs": [],
   "source": [
    "# add summary statistics on EDA to the dataframe\n",
    "df_physio_clean_clean_clean = statistics(df_physio, 'filt_EDA')\n",
    "# compute the first derivate on EDA and add summary statistics on filt_EDA_dot to the dataframe\n",
    "df_physio = arr_calculation(df_physio, 'filt_EDA', 'gradient', 'filt_EDA_dot')\n",
    "df_physio = statistics(df_physio, 'filt_EDA_dot')\n",
    "# compute the second derivative on EDA and add summary statistics on filt_EDA_dott to the dataframe\n",
    "df_physio = arr_calculation(df_physio, 'filt_EDA_dot', 'gradient', 'filt_EDA_ddot')\n",
    "df_physio = statistics(df_physio, 'filt_EDA_ddot')"
   ]
  },
  {
   "cell_type": "code",
   "execution_count": 12,
   "id": "f01cadba",
   "metadata": {},
   "outputs": [],
   "source": [
    "# add summary statistics on EDR to the dataframe\n",
    "df_physio = statistics(df_physio, 'EDR')\n",
    "# compute the first derivate on EDR and add summary statistics on EDR_dot to the dataframe\n",
    "df_physio = arr_calculation(df_physio, 'EDR', 'gradient', 'EDR_dot')\n",
    "df_physio = statistics(df_physio, 'EDR_dot')\n",
    "# compute the second derivative on EDR and add summary statistics on EDR_dott to the dataframe\n",
    "df_physio = arr_calculation(df_physio, 'EDR_dot', 'gradient', 'EDR_ddot')\n",
    "df_physio = statistics(df_physio, 'EDR_ddot')"
   ]
  },
  {
   "cell_type": "code",
   "execution_count": 13,
   "id": "cda6fc20",
   "metadata": {},
   "outputs": [],
   "source": [
    "# Create a time vector for the HR values (if hr_idx are valid indices into time_segment)\n",
    "df_physio['hr_time'] = df_physio.apply(\n",
    "    lambda row: row['ts'][row['hr_idx']] if len(row['hr_idx']) > 0 else [],     # copies the time stamps form ts to hr_time if there is a valid hr_idx\n",
    "    axis=1\n",
    ")\n",
    "\n",
    "df_physio = statistics(df_physio, 'hr')\n",
    "\n",
    "# compute the first derivative on HR and add summary statistics on hr_dot to the dataframe\n",
    "df_physio['hr'] = df_physio['hr'].apply(lambda x: x if len(x) > 1 else [np.nan, np.nan])\n",
    "df_physio = arr_calculation(df_physio, 'hr', 'gradient', 'hr_dot')\n",
    "\n",
    "df_physio = statistics(df_physio, 'hr_dot')\n",
    "\n"
   ]
  },
  {
   "cell_type": "code",
   "execution_count": 14,
   "id": "1475a533",
   "metadata": {},
   "outputs": [],
   "source": [
    "# adding features on RR & HRV\n",
    "\n",
    "df_physio = arr_calculation(df_physio, 'hr_time', 'diff')                                       # time in seconds between heart rate measurements\n",
    "df_physio = statistics(df_physio, 'diff_hr_time')\n",
    "df_physio = arr_calculation(df_physio, 'diff_hr_time', 'diff', 'successive_diff_hr_time')       # first derivative of diff_hr_time\n",
    "\n",
    "bm_rr_int_count = [len(arr) > 1 for arr in df_physio[\"diff_hr_time\"]]                           # count the number of RR intervals in each segment\n",
    "                                                                                                # and check if there are at least 2 intervals    \n",
    "df_physio[\"SDNN\"] = [\n",
    "    np.std(arr) * 1000 if valid else np.nan\n",
    "    for arr, valid in zip(df_physio[\"diff_hr_time\"], bm_rr_int_count)\n",
    "] \n",
    "\n",
    "df_physio[\"rMSSD\"] = [\n",
    "    np.sqrt(np.mean(arr**2)) * 1000 if valid else np.nan\n",
    "    for arr, valid in zip(df_physio[\"successive_diff_hr_time\"], bm_rr_int_count)\n",
    "]"
   ]
  },
  {
   "cell_type": "code",
   "execution_count": 15,
   "id": "aacab457",
   "metadata": {},
   "outputs": [
    {
     "name": "stdout",
     "output_type": "stream",
     "text": [
      "nan\n",
      "nan\n"
     ]
    },
    {
     "name": "stderr",
     "output_type": "stream",
     "text": [
      "c:\\Users\\Zita\\Repositories\\affective-states\\venv\\Lib\\site-packages\\numpy\\_core\\fromnumeric.py:3860: RuntimeWarning: Mean of empty slice.\n",
      "  return _methods._mean(a, axis=axis, dtype=dtype,\n",
      "c:\\Users\\Zita\\Repositories\\affective-states\\venv\\Lib\\site-packages\\numpy\\_core\\_methods.py:145: RuntimeWarning: invalid value encountered in scalar divide\n",
      "  ret = ret.dtype.type(ret / rcount)\n"
     ]
    }
   ],
   "source": [
    "peaks, properties = find_peaks(df_physio[\"filt_EDA\"][1], height=0.1)\n",
    "print(np.mean(df_physio[\"filt_EDA\"][1][peaks]))\n",
    "print(np.mean(properties[\"peak_heights\"]))"
   ]
  },
  {
   "cell_type": "code",
   "execution_count": 16,
   "id": "70b32e6b",
   "metadata": {},
   "outputs": [
    {
     "name": "stderr",
     "output_type": "stream",
     "text": [
      "c:\\Users\\Zita\\Repositories\\affective-states\\venv\\Lib\\site-packages\\numpy\\_core\\_methods.py:223: RuntimeWarning: Degrees of freedom <= 0 for slice\n",
      "  ret = _var(a, axis=axis, dtype=dtype, out=out, ddof=ddof,\n",
      "c:\\Users\\Zita\\Repositories\\affective-states\\venv\\Lib\\site-packages\\numpy\\_core\\_methods.py:181: RuntimeWarning: invalid value encountered in divide\n",
      "  arrmean = um.true_divide(arrmean, div, out=arrmean,\n",
      "c:\\Users\\Zita\\Repositories\\affective-states\\venv\\Lib\\site-packages\\numpy\\_core\\_methods.py:215: RuntimeWarning: invalid value encountered in scalar divide\n",
      "  ret = ret.dtype.type(ret / rcount)\n"
     ]
    }
   ],
   "source": [
    "# adding features on EDA peaks\n",
    "\n",
    "peak_counts, mean_peak_amp, std_peak_amp = [], [], []\n",
    "\n",
    "for i in range(len(df_physio)):\n",
    "    if len(df_physio[\"filt_EDA\"][i]) > 0:\n",
    "        peaks, properties = find_peaks(df_physio[\"filt_EDA\"][i], height=0.1)\n",
    "        peak_amplitudes = df_physio[\"filt_EDA\"][i][peaks]\n",
    "        peak_counts.append(int(len(peaks)))\n",
    "        mean_peak_amp.append(np.mean(properties[\"peak_heights\"]))\n",
    "        std_peak_amp.append(np.std(properties[\"peak_heights\"]))\n",
    "\n",
    "df_physio[[\"n_peaks_EDA\", \"mean_peak_amp_EDA\", \"std_peak_amp_EDA\"]] = pd.DataFrame({\n",
    "    \"n_peaks_EDA\": peak_counts,\n",
    "    \"mean_peak_amp_EDA\": mean_peak_amp,\n",
    "    \"std_peak_amp_EDA\": std_peak_amp\n",
    "}).values"
   ]
  },
  {
   "cell_type": "markdown",
   "id": "e379b78c",
   "metadata": {},
   "source": [
    "# Add extra labels to the data frame"
   ]
  },
  {
   "cell_type": "code",
   "execution_count": 17,
   "id": "bd9cae5f",
   "metadata": {},
   "outputs": [
    {
     "name": "stdout",
     "output_type": "stream",
     "text": [
      "<class 'dict'>\n",
      "dict_keys(['ar_seg', 'vl_seg', 'unc_seg', 'ts_seg'])\n"
     ]
    }
   ],
   "source": [
    "# opening annotated data\n",
    "with open(annotation_path, 'rb') as f:\n",
    "    annotation_data = pickle.load(f)\n",
    "\n",
    "# Inspect the type and structure\n",
    "print(type(annotation_data))  # Check the data type\n",
    "print(annotation_data.keys())"
   ]
  },
  {
   "cell_type": "code",
   "execution_count": 18,
   "id": "e06315c2",
   "metadata": {},
   "outputs": [
    {
     "name": "stdout",
     "output_type": "stream",
     "text": [
      "<class 'dict'>\n",
      "dict_keys(['ID', 'device'])\n",
      "1481\n"
     ]
    }
   ],
   "source": [
    "with open(questionnaire_path, 'rb') as f:\n",
    "    quest_data = pickle.load(f)\n",
    "\n",
    "print(type(quest_data))  # Check the data type\n",
    "print(quest_data.keys())\n",
    "print(len(quest_data[\"ID\"]))"
   ]
  },
  {
   "cell_type": "code",
   "execution_count": 19,
   "id": "1fb756d6",
   "metadata": {},
   "outputs": [],
   "source": [
    "# Add the labels to the dataframe\n",
    "\n",
    "df_physio[['ar_seg', 'vl_seg', 'unc_seg', 'ts_seg', 'ID', 'device']] = pd.DataFrame({\n",
    "    \"ar_seg\": annotation_data[\"ar_seg\"],\n",
    "    \"vl_seg\": annotation_data[\"vl_seg\"],\n",
    "    \"unc_seg\": annotation_data[\"unc_seg\"],\n",
    "    \"ts_seg\": annotation_data[\"ts_seg\"],\n",
    "    \"ID\": quest_data[\"ID\"],\n",
    "    \"device\": quest_data[\"device\"]\n",
    "}).values"
   ]
  },
  {
   "cell_type": "markdown",
   "id": "86237c46",
   "metadata": {},
   "source": [
    "# Dealing with NaN values\n",
    "\n",
    "In this section, I drop the collumn with heart rate data, which are removed by removing rows with more that 5 NaN values.\n",
    "\n",
    "The following column with NaN values remain:\n",
    "- 'EDA_quality_idx' - all values are integers between 5 and 1479 -> NaN values will be subsituted with -1 and dummy variable will be added\n",
    "- 'PPG_quality_idx' - all values are floats between 0 and 1.480e+03 -> NaN values will be subsituted with -1 and dummy variable will be added\n",
    "- 'mean_peak_amp_EDA' - all values are floats between 0 and 5.13961366e+02 -> NaN values will be subsituted with -1 and dummy variable will be added\n",
    "- 'std_peak_amp_EDA' -  all values are floats between 0 and 2.50771934e+01 -> NaN values will be subsituted with -1 and dummy variable will be added\n",
    "- 'unc_seg' - all the unique values are: 3.0 2.0 2.5 1.5 1.0 (this likely means high to low uncertainty of a segment.) -> NaN values will be subsituted with 4.0\n"
   ]
  },
  {
   "cell_type": "code",
   "execution_count": 20,
   "id": "0c53042e",
   "metadata": {},
   "outputs": [],
   "source": [
    "#TODO: deal with NaN values in df_physio\n",
    "df_physio_clean = df_physio.copy()"
   ]
  },
  {
   "cell_type": "code",
   "execution_count": 21,
   "id": "ed7eebb8",
   "metadata": {},
   "outputs": [
    {
     "name": "stdout",
     "output_type": "stream",
     "text": [
      "Columns with NaN values:  ['EDA_quality_idx', 'PPG_quality_idx', 'mean_hr', 'std_hr', 'max_hr', 'min_hr', 'mean_hr_dot', 'std_hr_dot', 'max_hr_dot', 'min_hr_dot', 'mean_diff_hr_time', 'std_diff_hr_time', 'max_diff_hr_time', 'min_diff_hr_time', 'SDNN', 'rMSSD', 'mean_peak_amp_EDA', 'std_peak_amp_EDA', 'unc_seg']\n"
     ]
    }
   ],
   "source": [
    "# check which columns are NaN\n",
    "nan_columns = df_physio_clean.columns[df_physio.isna().any()].tolist()\n",
    "print(\"Columns with NaN values: \", nan_columns)"
   ]
  },
  {
   "cell_type": "code",
   "execution_count": 22,
   "id": "bf60f1b6",
   "metadata": {},
   "outputs": [
    {
     "name": "stdout",
     "output_type": "stream",
     "text": [
      "Columns with NaN values:  ['EDA_quality_idx', 'PPG_quality_idx', 'mean_peak_amp_EDA', 'std_peak_amp_EDA', 'unc_seg']\n"
     ]
    }
   ],
   "source": [
    "# if a row contains more than 5 NaN values, drop it\n",
    "df_physio_clean = df_physio_clean.dropna(thresh=len(df_physio_clean.columns) - 5)       # This drops thr rows without Heart Rate data\n",
    "df_physio_clean = df_physio_clean.reset_index(drop=True)                                # reset the index after dropping rows\n",
    "\n",
    "# The remaining NaN values are in the following columns:\n",
    "nan_columns = df_physio_clean.columns[df_physio_clean.isna().any()].tolist()\n",
    "print(\"Columns with NaN values: \", nan_columns)"
   ]
  },
  {
   "cell_type": "code",
   "execution_count": 23,
   "id": "a2b0015a",
   "metadata": {},
   "outputs": [
    {
     "name": "stdout",
     "output_type": "stream",
     "text": [
      "[nan 3.0 2.0 2.5 1.5 1.0]\n"
     ]
    }
   ],
   "source": [
    "# print unique values of a column\n",
    "col_name = 'unc_seg'\n",
    "print(df_physio_clean[col_name].unique())"
   ]
  },
  {
   "cell_type": "code",
   "execution_count": 24,
   "id": "2d787782",
   "metadata": {},
   "outputs": [
    {
     "name": "stderr",
     "output_type": "stream",
     "text": [
      "C:\\Users\\Zita\\AppData\\Local\\Temp\\ipykernel_8560\\2923350185.py:2: FutureWarning: Downcasting behavior in `replace` is deprecated and will be removed in a future version. To retain the old behavior, explicitly call `result.infer_objects(copy=False)`. To opt-in to the future behavior, set `pd.set_option('future.no_silent_downcasting', True)`\n",
      "  df_physio_clean['unc_seg'] = df_physio_clean['unc_seg'].replace([np.nan], 4.0)\n"
     ]
    }
   ],
   "source": [
    "# in unc_seg, subsitute missing values with 4.0\n",
    "df_physio_clean['unc_seg'] = df_physio_clean['unc_seg'].replace([np.nan], 4.0)\n",
    "\n",
    "# in the columns with NaN values, substitute missing values -1.0\n",
    "for col in nan_columns:\n",
    "    df_physio_clean[col] = df_physio_clean[col].replace([np.nan], -1.0)"
   ]
  },
  {
   "cell_type": "code",
   "execution_count": 25,
   "id": "7518877f",
   "metadata": {},
   "outputs": [],
   "source": [
    "# Create two new dummy columns for d_quality and d_peak_EDA\n",
    "df_physio_clean['d_quality'] = [0 if item == -1.0 else 1 for item in df_physio_clean['EDA_quality_idx']] # if there is nan in EDA quality then there is also no PPG quality\n",
    "df_physio_clean['d_peak_EDA'] = [0 if item == -1.0 else 1 for item in df_physio_clean['mean_peak_amp_EDA']]"
   ]
  },
  {
   "cell_type": "code",
   "execution_count": 26,
   "id": "082df7d6",
   "metadata": {},
   "outputs": [
    {
     "name": "stdout",
     "output_type": "stream",
     "text": [
      "Length of df_physio_clean:  1229\n",
      "Length of df_physio:  1481\n",
      "Reduction percentage:  17.01553004726536\n"
     ]
    }
   ],
   "source": [
    "# compare lenghts of df_physio_clean and df_physio, reduction percentage\n",
    "print(\"Length of df_physio_clean: \", len(df_physio_clean))\n",
    "print(\"Length of df_physio: \", len(df_physio))\n",
    "print(\"Reduction percentage: \", (len(df_physio) - len(df_physio_clean)) / len(df_physio) * 100)"
   ]
  },
  {
   "cell_type": "markdown",
   "id": "3d23e4c7",
   "metadata": {},
   "source": [
    "# Save data in one dataframe\n",
    "All column with lists are removed as they cannot be used as model input.\n"
   ]
  },
  {
   "cell_type": "code",
   "execution_count": 27,
   "id": "60bc0de3",
   "metadata": {},
   "outputs": [],
   "source": [
    "# Drop the columns that are of type array\n",
    "df = df_physio_clean.drop(columns=[\"filt_EDA\", \"EDR\", \"hr\", \"ts\", \"hr_idx\", \"hr_time\", \"diff_hr_time\", \"successive_diff_hr_time\", \"filt_PPG\", \"sampling_rate\", \"packet_number\", \"raw_EDA\", \"raw_PPG\", \"filt_EDA_dot\", \"filt_EDA_ddot\", \"EDR_dot\", \"EDR_ddot\", \"hr_dot\"])"
   ]
  },
  {
   "cell_type": "code",
   "execution_count": 28,
   "id": "fe82dc8d",
   "metadata": {},
   "outputs": [
    {
     "data": {
      "text/html": [
       "<div>\n",
       "<style scoped>\n",
       "    .dataframe tbody tr th:only-of-type {\n",
       "        vertical-align: middle;\n",
       "    }\n",
       "\n",
       "    .dataframe tbody tr th {\n",
       "        vertical-align: top;\n",
       "    }\n",
       "\n",
       "    .dataframe thead th {\n",
       "        text-align: right;\n",
       "    }\n",
       "</style>\n",
       "<table border=\"1\" class=\"dataframe\">\n",
       "  <thead>\n",
       "    <tr style=\"text-align: right;\">\n",
       "      <th></th>\n",
       "      <th>EDA_quality_idx</th>\n",
       "      <th>PPG_quality_idx</th>\n",
       "      <th>mean_filt_EDA</th>\n",
       "      <th>std_filt_EDA</th>\n",
       "      <th>max_filt_EDA</th>\n",
       "      <th>min_filt_EDA</th>\n",
       "      <th>mean_filt_EDA_dot</th>\n",
       "      <th>std_filt_EDA_dot</th>\n",
       "      <th>max_filt_EDA_dot</th>\n",
       "      <th>min_filt_EDA_dot</th>\n",
       "      <th>...</th>\n",
       "      <th>mean_peak_amp_EDA</th>\n",
       "      <th>std_peak_amp_EDA</th>\n",
       "      <th>ar_seg</th>\n",
       "      <th>vl_seg</th>\n",
       "      <th>unc_seg</th>\n",
       "      <th>ts_seg</th>\n",
       "      <th>ID</th>\n",
       "      <th>device</th>\n",
       "      <th>d_quality</th>\n",
       "      <th>d_peak_EDA</th>\n",
       "    </tr>\n",
       "  </thead>\n",
       "  <tbody>\n",
       "    <tr>\n",
       "      <th>count</th>\n",
       "      <td>1229.000000</td>\n",
       "      <td>1229.000000</td>\n",
       "      <td>1.229000e+03</td>\n",
       "      <td>1229.000000</td>\n",
       "      <td>1229.000000</td>\n",
       "      <td>1229.000000</td>\n",
       "      <td>1229.000000</td>\n",
       "      <td>1229.000000</td>\n",
       "      <td>1229.000000</td>\n",
       "      <td>1229.000000</td>\n",
       "      <td>...</td>\n",
       "      <td>1229.000000</td>\n",
       "      <td>1229.000000</td>\n",
       "      <td>1229.0</td>\n",
       "      <td>1229.0</td>\n",
       "      <td>1229.000000</td>\n",
       "      <td>1229.0</td>\n",
       "      <td>1229.0</td>\n",
       "      <td>1229</td>\n",
       "      <td>1229.000000</td>\n",
       "      <td>1229.000000</td>\n",
       "    </tr>\n",
       "    <tr>\n",
       "      <th>unique</th>\n",
       "      <td>NaN</td>\n",
       "      <td>NaN</td>\n",
       "      <td>NaN</td>\n",
       "      <td>NaN</td>\n",
       "      <td>NaN</td>\n",
       "      <td>NaN</td>\n",
       "      <td>NaN</td>\n",
       "      <td>NaN</td>\n",
       "      <td>NaN</td>\n",
       "      <td>NaN</td>\n",
       "      <td>...</td>\n",
       "      <td>NaN</td>\n",
       "      <td>NaN</td>\n",
       "      <td>5.0</td>\n",
       "      <td>5.0</td>\n",
       "      <td>NaN</td>\n",
       "      <td>1057.0</td>\n",
       "      <td>162.0</td>\n",
       "      <td>11</td>\n",
       "      <td>NaN</td>\n",
       "      <td>NaN</td>\n",
       "    </tr>\n",
       "    <tr>\n",
       "      <th>top</th>\n",
       "      <td>NaN</td>\n",
       "      <td>NaN</td>\n",
       "      <td>NaN</td>\n",
       "      <td>NaN</td>\n",
       "      <td>NaN</td>\n",
       "      <td>NaN</td>\n",
       "      <td>NaN</td>\n",
       "      <td>NaN</td>\n",
       "      <td>NaN</td>\n",
       "      <td>NaN</td>\n",
       "      <td>...</td>\n",
       "      <td>NaN</td>\n",
       "      <td>NaN</td>\n",
       "      <td>3.0</td>\n",
       "      <td>3.0</td>\n",
       "      <td>NaN</td>\n",
       "      <td>5.0</td>\n",
       "      <td>28.0</td>\n",
       "      <td>34</td>\n",
       "      <td>NaN</td>\n",
       "      <td>NaN</td>\n",
       "    </tr>\n",
       "    <tr>\n",
       "      <th>freq</th>\n",
       "      <td>NaN</td>\n",
       "      <td>NaN</td>\n",
       "      <td>NaN</td>\n",
       "      <td>NaN</td>\n",
       "      <td>NaN</td>\n",
       "      <td>NaN</td>\n",
       "      <td>NaN</td>\n",
       "      <td>NaN</td>\n",
       "      <td>NaN</td>\n",
       "      <td>NaN</td>\n",
       "      <td>...</td>\n",
       "      <td>NaN</td>\n",
       "      <td>NaN</td>\n",
       "      <td>373.0</td>\n",
       "      <td>461.0</td>\n",
       "      <td>NaN</td>\n",
       "      <td>11.0</td>\n",
       "      <td>69.0</td>\n",
       "      <td>146</td>\n",
       "      <td>NaN</td>\n",
       "      <td>NaN</td>\n",
       "    </tr>\n",
       "    <tr>\n",
       "      <th>mean</th>\n",
       "      <td>638.398698</td>\n",
       "      <td>580.759967</td>\n",
       "      <td>8.518683e+02</td>\n",
       "      <td>101.039673</td>\n",
       "      <td>1084.897840</td>\n",
       "      <td>712.410208</td>\n",
       "      <td>0.027107</td>\n",
       "      <td>0.637367</td>\n",
       "      <td>2.515501</td>\n",
       "      <td>-1.341855</td>\n",
       "      <td>...</td>\n",
       "      <td>792.325139</td>\n",
       "      <td>60.190670</td>\n",
       "      <td>NaN</td>\n",
       "      <td>NaN</td>\n",
       "      <td>3.639544</td>\n",
       "      <td>NaN</td>\n",
       "      <td>NaN</td>\n",
       "      <td>NaN</td>\n",
       "      <td>0.833198</td>\n",
       "      <td>0.792514</td>\n",
       "    </tr>\n",
       "    <tr>\n",
       "      <th>std</th>\n",
       "      <td>510.126441</td>\n",
       "      <td>536.428890</td>\n",
       "      <td>6.861064e+02</td>\n",
       "      <td>167.434512</td>\n",
       "      <td>845.786841</td>\n",
       "      <td>627.544339</td>\n",
       "      <td>0.228142</td>\n",
       "      <td>1.347412</td>\n",
       "      <td>5.334911</td>\n",
       "      <td>4.384717</td>\n",
       "      <td>...</td>\n",
       "      <td>768.081853</td>\n",
       "      <td>137.439592</td>\n",
       "      <td>NaN</td>\n",
       "      <td>NaN</td>\n",
       "      <td>0.831152</td>\n",
       "      <td>NaN</td>\n",
       "      <td>NaN</td>\n",
       "      <td>NaN</td>\n",
       "      <td>0.372951</td>\n",
       "      <td>0.405671</td>\n",
       "    </tr>\n",
       "    <tr>\n",
       "      <th>min</th>\n",
       "      <td>-1.000000</td>\n",
       "      <td>-1.000000</td>\n",
       "      <td>-7.359384e-33</td>\n",
       "      <td>0.000000</td>\n",
       "      <td>0.000000</td>\n",
       "      <td>-0.004448</td>\n",
       "      <td>-1.700899</td>\n",
       "      <td>0.000000</td>\n",
       "      <td>-0.212733</td>\n",
       "      <td>-42.403935</td>\n",
       "      <td>...</td>\n",
       "      <td>-1.000000</td>\n",
       "      <td>-1.000000</td>\n",
       "      <td>NaN</td>\n",
       "      <td>NaN</td>\n",
       "      <td>1.000000</td>\n",
       "      <td>NaN</td>\n",
       "      <td>NaN</td>\n",
       "      <td>NaN</td>\n",
       "      <td>0.000000</td>\n",
       "      <td>0.000000</td>\n",
       "    </tr>\n",
       "    <tr>\n",
       "      <th>25%</th>\n",
       "      <td>141.000000</td>\n",
       "      <td>45.000000</td>\n",
       "      <td>3.168605e+02</td>\n",
       "      <td>15.579760</td>\n",
       "      <td>474.492613</td>\n",
       "      <td>165.045351</td>\n",
       "      <td>-0.035228</td>\n",
       "      <td>0.040408</td>\n",
       "      <td>0.099668</td>\n",
       "      <td>-0.722755</td>\n",
       "      <td>...</td>\n",
       "      <td>54.522609</td>\n",
       "      <td>0.000000</td>\n",
       "      <td>NaN</td>\n",
       "      <td>NaN</td>\n",
       "      <td>4.000000</td>\n",
       "      <td>NaN</td>\n",
       "      <td>NaN</td>\n",
       "      <td>NaN</td>\n",
       "      <td>1.000000</td>\n",
       "      <td>1.000000</td>\n",
       "    </tr>\n",
       "    <tr>\n",
       "      <th>50%</th>\n",
       "      <td>551.000000</td>\n",
       "      <td>410.000000</td>\n",
       "      <td>7.568800e+02</td>\n",
       "      <td>47.773928</td>\n",
       "      <td>949.004239</td>\n",
       "      <td>640.335167</td>\n",
       "      <td>0.000174</td>\n",
       "      <td>0.196589</td>\n",
       "      <td>0.683758</td>\n",
       "      <td>-0.202979</td>\n",
       "      <td>...</td>\n",
       "      <td>674.123587</td>\n",
       "      <td>8.152321</td>\n",
       "      <td>NaN</td>\n",
       "      <td>NaN</td>\n",
       "      <td>4.000000</td>\n",
       "      <td>NaN</td>\n",
       "      <td>NaN</td>\n",
       "      <td>NaN</td>\n",
       "      <td>1.000000</td>\n",
       "      <td>1.000000</td>\n",
       "    </tr>\n",
       "    <tr>\n",
       "      <th>75%</th>\n",
       "      <td>1141.000000</td>\n",
       "      <td>1164.000000</td>\n",
       "      <td>1.233927e+03</td>\n",
       "      <td>114.141120</td>\n",
       "      <td>1547.326922</td>\n",
       "      <td>1037.006491</td>\n",
       "      <td>0.077821</td>\n",
       "      <td>0.639126</td>\n",
       "      <td>2.432761</td>\n",
       "      <td>-0.063942</td>\n",
       "      <td>...</td>\n",
       "      <td>1213.845136</td>\n",
       "      <td>53.921937</td>\n",
       "      <td>NaN</td>\n",
       "      <td>NaN</td>\n",
       "      <td>4.000000</td>\n",
       "      <td>NaN</td>\n",
       "      <td>NaN</td>\n",
       "      <td>NaN</td>\n",
       "      <td>1.000000</td>\n",
       "      <td>1.000000</td>\n",
       "    </tr>\n",
       "    <tr>\n",
       "      <th>max</th>\n",
       "      <td>1480.000000</td>\n",
       "      <td>1480.000000</td>\n",
       "      <td>4.031343e+03</td>\n",
       "      <td>1356.009899</td>\n",
       "      <td>4033.853109</td>\n",
       "      <td>4024.214615</td>\n",
       "      <td>1.525783</td>\n",
       "      <td>14.609570</td>\n",
       "      <td>50.141448</td>\n",
       "      <td>0.000557</td>\n",
       "      <td>...</td>\n",
       "      <td>4031.907098</td>\n",
       "      <td>1283.234280</td>\n",
       "      <td>NaN</td>\n",
       "      <td>NaN</td>\n",
       "      <td>4.000000</td>\n",
       "      <td>NaN</td>\n",
       "      <td>NaN</td>\n",
       "      <td>NaN</td>\n",
       "      <td>1.000000</td>\n",
       "      <td>1.000000</td>\n",
       "    </tr>\n",
       "  </tbody>\n",
       "</table>\n",
       "<p>11 rows × 51 columns</p>\n",
       "</div>"
      ],
      "text/plain": [
       "        EDA_quality_idx  PPG_quality_idx  mean_filt_EDA  std_filt_EDA  \\\n",
       "count       1229.000000      1229.000000   1.229000e+03   1229.000000   \n",
       "unique              NaN              NaN            NaN           NaN   \n",
       "top                 NaN              NaN            NaN           NaN   \n",
       "freq                NaN              NaN            NaN           NaN   \n",
       "mean         638.398698       580.759967   8.518683e+02    101.039673   \n",
       "std          510.126441       536.428890   6.861064e+02    167.434512   \n",
       "min           -1.000000        -1.000000  -7.359384e-33      0.000000   \n",
       "25%          141.000000        45.000000   3.168605e+02     15.579760   \n",
       "50%          551.000000       410.000000   7.568800e+02     47.773928   \n",
       "75%         1141.000000      1164.000000   1.233927e+03    114.141120   \n",
       "max         1480.000000      1480.000000   4.031343e+03   1356.009899   \n",
       "\n",
       "        max_filt_EDA  min_filt_EDA  mean_filt_EDA_dot  std_filt_EDA_dot  \\\n",
       "count    1229.000000   1229.000000        1229.000000       1229.000000   \n",
       "unique           NaN           NaN                NaN               NaN   \n",
       "top              NaN           NaN                NaN               NaN   \n",
       "freq             NaN           NaN                NaN               NaN   \n",
       "mean     1084.897840    712.410208           0.027107          0.637367   \n",
       "std       845.786841    627.544339           0.228142          1.347412   \n",
       "min         0.000000     -0.004448          -1.700899          0.000000   \n",
       "25%       474.492613    165.045351          -0.035228          0.040408   \n",
       "50%       949.004239    640.335167           0.000174          0.196589   \n",
       "75%      1547.326922   1037.006491           0.077821          0.639126   \n",
       "max      4033.853109   4024.214615           1.525783         14.609570   \n",
       "\n",
       "        max_filt_EDA_dot  min_filt_EDA_dot  ...  mean_peak_amp_EDA  \\\n",
       "count        1229.000000       1229.000000  ...        1229.000000   \n",
       "unique               NaN               NaN  ...                NaN   \n",
       "top                  NaN               NaN  ...                NaN   \n",
       "freq                 NaN               NaN  ...                NaN   \n",
       "mean            2.515501         -1.341855  ...         792.325139   \n",
       "std             5.334911          4.384717  ...         768.081853   \n",
       "min            -0.212733        -42.403935  ...          -1.000000   \n",
       "25%             0.099668         -0.722755  ...          54.522609   \n",
       "50%             0.683758         -0.202979  ...         674.123587   \n",
       "75%             2.432761         -0.063942  ...        1213.845136   \n",
       "max            50.141448          0.000557  ...        4031.907098   \n",
       "\n",
       "        std_peak_amp_EDA  ar_seg  vl_seg      unc_seg  ts_seg      ID  device  \\\n",
       "count        1229.000000  1229.0  1229.0  1229.000000  1229.0  1229.0    1229   \n",
       "unique               NaN     5.0     5.0          NaN  1057.0   162.0      11   \n",
       "top                  NaN     3.0     3.0          NaN     5.0    28.0      34   \n",
       "freq                 NaN   373.0   461.0          NaN    11.0    69.0     146   \n",
       "mean           60.190670     NaN     NaN     3.639544     NaN     NaN     NaN   \n",
       "std           137.439592     NaN     NaN     0.831152     NaN     NaN     NaN   \n",
       "min            -1.000000     NaN     NaN     1.000000     NaN     NaN     NaN   \n",
       "25%             0.000000     NaN     NaN     4.000000     NaN     NaN     NaN   \n",
       "50%             8.152321     NaN     NaN     4.000000     NaN     NaN     NaN   \n",
       "75%            53.921937     NaN     NaN     4.000000     NaN     NaN     NaN   \n",
       "max          1283.234280     NaN     NaN     4.000000     NaN     NaN     NaN   \n",
       "\n",
       "          d_quality   d_peak_EDA  \n",
       "count   1229.000000  1229.000000  \n",
       "unique          NaN          NaN  \n",
       "top             NaN          NaN  \n",
       "freq            NaN          NaN  \n",
       "mean       0.833198     0.792514  \n",
       "std        0.372951     0.405671  \n",
       "min        0.000000     0.000000  \n",
       "25%        1.000000     1.000000  \n",
       "50%        1.000000     1.000000  \n",
       "75%        1.000000     1.000000  \n",
       "max        1.000000     1.000000  \n",
       "\n",
       "[11 rows x 51 columns]"
      ]
     },
     "execution_count": 28,
     "metadata": {},
     "output_type": "execute_result"
    }
   ],
   "source": [
    "df.describe(include='all')  # Display all columns in the DataFrame"
   ]
  },
  {
   "cell_type": "code",
   "execution_count": 29,
   "id": "c4b0d3a7",
   "metadata": {},
   "outputs": [
    {
     "name": "stdout",
     "output_type": "stream",
     "text": [
      "Data saved to pickle file successfully.\n"
     ]
    }
   ],
   "source": [
    "# Ensure the directory exists\n",
    "output_path = os.path.join(\"c:/Users/Zita/Repositories/affective-states/data/processed\", \"processed_data.pkl\")\n",
    "df.to_pickle(output_path)\n",
    "print(\"Data saved to pickle file successfully.\")\n"
   ]
  },
  {
   "cell_type": "markdown",
   "id": "e0f9b5e6",
   "metadata": {},
   "source": [
    "## Add normalized dataset\n",
    "I will apply 3 techniques:\n",
    "1. Standardization (Z-Score Normalization, good for many ml models like Linear Regression, Logistic Regression, SVM, Neural Networks)\n",
    "2. Min-Max Scaling (good for Algorithms that rely on distance metrics (e.g., KNN, SVM with RBF kernel))\n",
    "3. Robust Scaling (best for data with heavy outliers)"
   ]
  },
  {
   "cell_type": "code",
   "execution_count": 40,
   "id": "2e8c79af",
   "metadata": {},
   "outputs": [],
   "source": [
    "col_to_normalize = [col for col in df.columns if col not in [\"ar_seg\", \"vl_seg\", \"unc_seg\", \"ts_seg\", \"ID\", \"device\"]]\n",
    "\n",
    "# Standardization\n",
    "scaler = StandardScaler()\n",
    "df_standardized = df.copy()\n",
    "df_standardized[col_to_normalize] = pd.DataFrame(scaler.fit_transform(df[col_to_normalize]), columns=col_to_normalize)\n",
    "\n",
    "# Min-Max Scaling\n",
    "scaler = MinMaxScaler()\n",
    "df_min_max = df.copy()\n",
    "df_min_max[col_to_normalize] = pd.DataFrame(scaler.fit_transform(df[col_to_normalize]), columns=col_to_normalize)\n",
    "\n",
    "# Robust Scaling\n",
    "scaler = RobustScaler()\n",
    "df_robust = df.copy()\n",
    "df_robust[col_to_normalize] = pd.DataFrame(scaler.fit_transform(df[col_to_normalize]), columns=col_to_normalize)"
   ]
  },
  {
   "cell_type": "code",
   "execution_count": 41,
   "id": "8a872911",
   "metadata": {},
   "outputs": [
    {
     "name": "stdout",
     "output_type": "stream",
     "text": [
      "All data saved to pickle file successfully.\n"
     ]
    }
   ],
   "source": [
    "# Ensure the directory exists\n",
    "output_path = os.path.join(\"c:/Users/Zita/Repositories/affective-states/data/processed\", \"standardized_data.pkl\")\n",
    "df_standardized.to_pickle(output_path)\n",
    "\n",
    "output_path = os.path.join(\"c:/Users/Zita/Repositories/affective-states/data/processed\", \"min_max_data.pkl\")\n",
    "df_min_max.to_pickle(output_path)\n",
    "\n",
    "output_path = os.path.join(\"c:/Users/Zita/Repositories/affective-states/data/processed\", \"robust_data.pkl\")\n",
    "df_robust.to_pickle(output_path)\n",
    "\n",
    "print(\"All data saved to pickle file successfully.\")\n"
   ]
  },
  {
   "cell_type": "code",
   "execution_count": null,
   "id": "0c68e4c6",
   "metadata": {},
   "outputs": [],
   "source": []
  }
 ],
 "metadata": {
  "kernelspec": {
   "display_name": "venv",
   "language": "python",
   "name": "python3"
  },
  "language_info": {
   "codemirror_mode": {
    "name": "ipython",
    "version": 3
   },
   "file_extension": ".py",
   "mimetype": "text/x-python",
   "name": "python",
   "nbconvert_exporter": "python",
   "pygments_lexer": "ipython3",
   "version": "3.13.2"
  }
 },
 "nbformat": 4,
 "nbformat_minor": 5
}
